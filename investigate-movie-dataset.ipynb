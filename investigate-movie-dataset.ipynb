{
 "cells": [
  {
   "cell_type": "markdown",
   "metadata": {},
   "source": [
    "# Project: Investigate TMDb movie Dataset\n",
    "\n",
    "## Table of Contents\n",
    "<ul>\n",
    "<li><a href=\"#intro\">Introduction</a></li>\n",
    "<li><a href=\"#wrangling\">Data Wrangling</a></li>\n",
    "<li><a href=\"#eda\">Exploratory Data Analysis</a></li>\n",
    "<li><a href=\"#conclusions\">Conclusions</a></li>\n",
    "</ul>"
   ]
  },
  {
   "cell_type": "markdown",
   "metadata": {},
   "source": [
    "<a id='intro'></a>\n",
    "## Introduction\n",
    "\n",
    "> Data Set - **TMDb movie data**\n",
    "> Filename - **tmdb-movies.csv**\n",
    "\n",
    "\n",
    "**info**: This data set contains information about 10,000 movies collected from The Movie Database (TMDb), including user ratings and revenue.<br><br>\n",
    "•\tCertain columns, like ‘cast’ and ‘genres’, contain multiple values separated by pipe (|) characters.<br>\n",
    "•\tThere are some odd characters in the ‘cast’ column. Don’t worry about cleaning them. You can leave them as is.<br>\n",
    "•\tThe final two columns ending with “_adj” show the budget and revenue of the associated movie in terms of 2010 dollars, accounting for inflation over time.\n",
    "<br><br>\n",
    "**Column Headers** :<br> id,\timdb_id,\tpopularity,\tbudget,\trevenue,\toriginal_title,\tcast,\thomepage,\tdirector,\ttagline,\tkeywords,\toverview,\truntime,\tgenres,\tproduction_companies,\trelease_date,\tvote_count,\tvote_average,\trelease_year,\tbudget_adj,\trevenue_adj.\n",
    "\n",
    "### Questions to be explored :\n",
    "\n",
    "##### Question 1: Which movies made the highest % Gross profit from year to year?\n",
    "\n",
    "##### Question 2: Which genres are most popular from year to year? \n",
    "\n",
    "##### Question 3: Compare the mean runtimes per genre?\n",
    "\n",
    "##### Question 4: What kinds of properties are associated with movies that have high revenues?\n",
    "\n"
   ]
  },
  {
   "cell_type": "code",
   "execution_count": 69,
   "metadata": {},
   "outputs": [
    {
     "name": "stdout",
     "output_type": "stream",
     "text": [
      "Populating the interactive namespace from numpy and matplotlib\n"
     ]
    }
   ],
   "source": [
    "# Use this cell to set up import statements for all of the packages that you\n",
    "#   plan to use.\n",
    "\n",
    "# Remember to include a 'magic word' so that your visualizations are plotted\n",
    "#   inline with the notebook. See this page for more:\n",
    "#   http://ipython.readthedocs.io/en/stable/interactive/magics.html\n",
    "import pandas  as pd\n",
    "import numpy as np\n",
    "import seaborn as sns\n",
    "import matplotlib.pyplot as plt\n",
    "import matplotlib.pyplot as plt; plt.rcdefaults()\n",
    "import numpy as np\n",
    "\n",
    "%pylab inline"
   ]
  },
  {
   "cell_type": "markdown",
   "metadata": {},
   "source": [
    "<a id='wrangling'></a>\n",
    "## Data Wrangling\n",
    "\n",
    "**info**: This section will do the following -<br>\n",
    "* Load in the data<br>\n",
    "* Clean & Trim the dataset for analysis is **not required** since that has been **already done**.<br> "
   ]
  },
  {
   "cell_type": "markdown",
   "metadata": {},
   "source": [
    "### General Properties"
   ]
  },
  {
   "cell_type": "code",
   "execution_count": 70,
   "metadata": {},
   "outputs": [],
   "source": [
    "# Load your data and print out a few lines. Perform operations to inspect data\n",
    "#   types and look for instances of missing or possibly errant data.\n",
    "tmdb_movies_df= pd.read_csv('tmdb-movies.csv')"
   ]
  },
  {
   "cell_type": "markdown",
   "metadata": {},
   "source": [
    "### Data Cleaning (Replace this with more specific notes!)"
   ]
  },
  {
   "cell_type": "markdown",
   "metadata": {},
   "source": [
    "###### As part of Data cleansing we assume that each movie had a Budget to atleast 1 Dollar and revenue of atleast 1 Dollar.\n",
    "> This is basically done so that the **highest gross % Profit** does **not** get an **infinite value**."
   ]
  },
  {
   "cell_type": "code",
   "execution_count": 71,
   "metadata": {},
   "outputs": [],
   "source": [
    "# After discussing the structure of the data and any problems that need to be\n",
    "#   cleaned, perform those cleaning steps in the second part of this section.\n",
    "\n",
    "# Assuming Budget and Revenue as 1 instead of 0 , so that while calculating Profit % we donot get infinity as answer.\n",
    "tmdb_movies_df.loc[tmdb_movies_df['budget']==0, 'budget'] = 1\n",
    "tmdb_movies_df.loc[tmdb_movies_df['revenue']==0, 'revenue'] = 1"
   ]
  },
  {
   "cell_type": "markdown",
   "metadata": {},
   "source": [
    "<a id='eda'></a>\n",
    "## Exploratory Data Analysis\n",
    "\n",
    "> **Tip**: Now that we trimmed and cleaned your data, we ready to move on to exploration.We will Compute statistics and create visualizations with the goal of addressing the research questions that you posed in the Introduction section. We will Look at one variable at a time, and then follow it up by looking at relationships between variables.\n",
    "\n"
   ]
  },
  {
   "cell_type": "markdown",
   "metadata": {},
   "source": [
    "### Question 1: Which movies made the highest % Gross profit from year to year?"
   ]
  },
  {
   "cell_type": "markdown",
   "metadata": {},
   "source": [
    "> **In order to explore the question we Use Vectorized Operations to calculate the gross proportion profits.** "
   ]
  },
  {
   "cell_type": "code",
   "execution_count": 72,
   "metadata": {
    "scrolled": true
   },
   "outputs": [],
   "source": [
    "tmdb_movies_gross_profit_proportion=(tmdb_movies_df['revenue']-tmdb_movies_df['budget'])/tmdb_movies_df['budget']"
   ]
  },
  {
   "cell_type": "markdown",
   "metadata": {},
   "source": [
    "Then we create another column named 'gross_profit' in the DataFrame for later on use.\n"
   ]
  },
  {
   "cell_type": "code",
   "execution_count": 73,
   "metadata": {},
   "outputs": [],
   "source": [
    "tmdb_movies_df['gross_profit']=tmdb_movies_gross_profit_proportion"
   ]
  },
  {
   "cell_type": "markdown",
   "metadata": {},
   "source": [
    "We then group the gross profts by years so that we can determine<br> what is the maximum profit in a year and which movies achieved it"
   ]
  },
  {
   "cell_type": "code",
   "execution_count": 74,
   "metadata": {},
   "outputs": [],
   "source": [
    "tmdb_movies_grouped_by_year=tmdb_movies_df.groupby('release_year')"
   ]
  },
  {
   "cell_type": "markdown",
   "metadata": {},
   "source": [
    "We will use get_movie_name function to get movie name by index positions later on "
   ]
  },
  {
   "cell_type": "code",
   "execution_count": 75,
   "metadata": {},
   "outputs": [],
   "source": [
    "# for an index i we need correspoding movie name so we need to column at index 5 viz for movie name\n",
    "def get_movie(x):\n",
    "    i=x.idxmax()\n",
    "    return  tmdb_movies_df.iloc[i, 5]    "
   ]
  },
  {
   "cell_type": "markdown",
   "metadata": {},
   "source": [
    "In the movies grouped by year we will use apply function to get movie name by index positions for each element present in the series , output is two series with movie names and other with maximum gross % profit by year"
   ]
  },
  {
   "cell_type": "code",
   "execution_count": 76,
   "metadata": {},
   "outputs": [],
   "source": [
    "movies_sr_by_year=tmdb_movies_grouped_by_year['gross_profit'].apply(get_movie)\n",
    "profit_sr_by_year=tmdb_movies_grouped_by_year['gross_profit'].max() "
   ]
  },
  {
   "cell_type": "markdown",
   "metadata": {},
   "source": [
    "Then we combine the two series to make one Dataframe"
   ]
  },
  {
   "cell_type": "code",
   "execution_count": 77,
   "metadata": {},
   "outputs": [],
   "source": [
    "df_profit_title=pd.concat([movies_sr_by_year, profit_sr_by_year], axis=1)\n",
    "df_profit_title.columns = ['original_title', 'gross_profit_proportion']"
   ]
  },
  {
   "cell_type": "markdown",
   "metadata": {},
   "source": [
    "Create a plot of the Dataframe"
   ]
  },
  {
   "cell_type": "code",
   "execution_count": 78,
   "metadata": {},
   "outputs": [
    {
     "data": {
      "text/html": [
       "<div>\n",
       "<style>\n",
       "    .dataframe thead tr:only-child th {\n",
       "        text-align: right;\n",
       "    }\n",
       "\n",
       "    .dataframe thead th {\n",
       "        text-align: left;\n",
       "    }\n",
       "\n",
       "    .dataframe tbody tr th {\n",
       "        vertical-align: top;\n",
       "    }\n",
       "</style>\n",
       "<table border=\"1\" class=\"dataframe\">\n",
       "  <thead>\n",
       "    <tr style=\"text-align: right;\">\n",
       "      <th></th>\n",
       "      <th>original_title</th>\n",
       "      <th>gross_profit_proportion</th>\n",
       "    </tr>\n",
       "    <tr>\n",
       "      <th>release_year</th>\n",
       "      <th></th>\n",
       "      <th></th>\n",
       "    </tr>\n",
       "  </thead>\n",
       "  <tbody>\n",
       "    <tr>\n",
       "      <th>1960</th>\n",
       "      <td>The Bellboy</td>\n",
       "      <td>9.999999e+06</td>\n",
       "    </tr>\n",
       "    <tr>\n",
       "      <th>1961</th>\n",
       "      <td>One Hundred and One Dalmatians</td>\n",
       "      <td>5.297000e+01</td>\n",
       "    </tr>\n",
       "    <tr>\n",
       "      <th>1962</th>\n",
       "      <td>The Music Man</td>\n",
       "      <td>7.999999e+06</td>\n",
       "    </tr>\n",
       "    <tr>\n",
       "      <th>1963</th>\n",
       "      <td>The Pink Panther</td>\n",
       "      <td>1.087811e+07</td>\n",
       "    </tr>\n",
       "    <tr>\n",
       "      <th>1964</th>\n",
       "      <td>A Shot in the Dark</td>\n",
       "      <td>1.236823e+07</td>\n",
       "    </tr>\n",
       "    <tr>\n",
       "      <th>1965</th>\n",
       "      <td>The Sound of Music</td>\n",
       "      <td>1.890418e+01</td>\n",
       "    </tr>\n",
       "    <tr>\n",
       "      <th>1966</th>\n",
       "      <td>Who's Afraid of Virginia Woolf?</td>\n",
       "      <td>3.498225e+00</td>\n",
       "    </tr>\n",
       "    <tr>\n",
       "      <th>1967</th>\n",
       "      <td>The War Wagon</td>\n",
       "      <td>5.999999e+06</td>\n",
       "    </tr>\n",
       "    <tr>\n",
       "      <th>1968</th>\n",
       "      <td>Romeo and Juliet</td>\n",
       "      <td>3.890122e+07</td>\n",
       "    </tr>\n",
       "    <tr>\n",
       "      <th>1969</th>\n",
       "      <td>True Grit</td>\n",
       "      <td>1.425000e+07</td>\n",
       "    </tr>\n",
       "    <tr>\n",
       "      <th>1970</th>\n",
       "      <td>Kelly's Heroes</td>\n",
       "      <td>5.199999e+06</td>\n",
       "    </tr>\n",
       "    <tr>\n",
       "      <th>1971</th>\n",
       "      <td>Carnal Knowledge</td>\n",
       "      <td>2.862390e+07</td>\n",
       "    </tr>\n",
       "    <tr>\n",
       "      <th>1972</th>\n",
       "      <td>The Cowboys</td>\n",
       "      <td>7.499999e+06</td>\n",
       "    </tr>\n",
       "    <tr>\n",
       "      <th>1973</th>\n",
       "      <td>The Way We Were</td>\n",
       "      <td>4.500000e+07</td>\n",
       "    </tr>\n",
       "    <tr>\n",
       "      <th>1974</th>\n",
       "      <td>The Longest Yard</td>\n",
       "      <td>4.300807e+07</td>\n",
       "    </tr>\n",
       "    <tr>\n",
       "      <th>1975</th>\n",
       "      <td>Rollerball</td>\n",
       "      <td>3.000000e+07</td>\n",
       "    </tr>\n",
       "    <tr>\n",
       "      <th>1976</th>\n",
       "      <td>Silver Streak</td>\n",
       "      <td>5.107906e+07</td>\n",
       "    </tr>\n",
       "    <tr>\n",
       "      <th>1977</th>\n",
       "      <td>Smokey and the Bandit</td>\n",
       "      <td>1.267374e+08</td>\n",
       "    </tr>\n",
       "    <tr>\n",
       "      <th>1978</th>\n",
       "      <td>Hooper</td>\n",
       "      <td>7.800000e+07</td>\n",
       "    </tr>\n",
       "    <tr>\n",
       "      <th>1979</th>\n",
       "      <td>The Amityville Horror</td>\n",
       "      <td>8.643200e+07</td>\n",
       "    </tr>\n",
       "    <tr>\n",
       "      <th>1980</th>\n",
       "      <td>Stir Crazy</td>\n",
       "      <td>1.013000e+08</td>\n",
       "    </tr>\n",
       "    <tr>\n",
       "      <th>1981</th>\n",
       "      <td>Sharky's Machine</td>\n",
       "      <td>3.561010e+07</td>\n",
       "    </tr>\n",
       "    <tr>\n",
       "      <th>1982</th>\n",
       "      <td>An Officer and a Gentleman</td>\n",
       "      <td>1.297956e+08</td>\n",
       "    </tr>\n",
       "    <tr>\n",
       "      <th>1983</th>\n",
       "      <td>Mr. Mom</td>\n",
       "      <td>6.478383e+07</td>\n",
       "    </tr>\n",
       "    <tr>\n",
       "      <th>1984</th>\n",
       "      <td>Tightrope</td>\n",
       "      <td>4.814358e+07</td>\n",
       "    </tr>\n",
       "    <tr>\n",
       "      <th>1985</th>\n",
       "      <td>Cocoon</td>\n",
       "      <td>8.531312e+07</td>\n",
       "    </tr>\n",
       "    <tr>\n",
       "      <th>1986</th>\n",
       "      <td>Back to School</td>\n",
       "      <td>9.125800e+07</td>\n",
       "    </tr>\n",
       "    <tr>\n",
       "      <th>1987</th>\n",
       "      <td>Moonstruck</td>\n",
       "      <td>8.064053e+07</td>\n",
       "    </tr>\n",
       "    <tr>\n",
       "      <th>1988</th>\n",
       "      <td>Crocodile Dundee II</td>\n",
       "      <td>2.396062e+08</td>\n",
       "    </tr>\n",
       "    <tr>\n",
       "      <th>1989</th>\n",
       "      <td>Parenthood</td>\n",
       "      <td>1.262978e+08</td>\n",
       "    </tr>\n",
       "    <tr>\n",
       "      <th>1990</th>\n",
       "      <td>Presumed Innocent</td>\n",
       "      <td>2.213032e+08</td>\n",
       "    </tr>\n",
       "    <tr>\n",
       "      <th>1991</th>\n",
       "      <td>Father of the Bride</td>\n",
       "      <td>8.932578e+07</td>\n",
       "    </tr>\n",
       "    <tr>\n",
       "      <th>1992</th>\n",
       "      <td>Beethoven</td>\n",
       "      <td>1.472140e+08</td>\n",
       "    </tr>\n",
       "    <tr>\n",
       "      <th>1993</th>\n",
       "      <td>Sommersby</td>\n",
       "      <td>1.400820e+08</td>\n",
       "    </tr>\n",
       "    <tr>\n",
       "      <th>1994</th>\n",
       "      <td>Nell</td>\n",
       "      <td>1.066838e+08</td>\n",
       "    </tr>\n",
       "    <tr>\n",
       "      <th>1995</th>\n",
       "      <td>Outbreak</td>\n",
       "      <td>1.898596e+08</td>\n",
       "    </tr>\n",
       "    <tr>\n",
       "      <th>1996</th>\n",
       "      <td>The Birdcage</td>\n",
       "      <td>1.852606e+08</td>\n",
       "    </tr>\n",
       "    <tr>\n",
       "      <th>1997</th>\n",
       "      <td>The Edge</td>\n",
       "      <td>4.331229e+07</td>\n",
       "    </tr>\n",
       "    <tr>\n",
       "      <th>1998</th>\n",
       "      <td>The Rugrats Movie</td>\n",
       "      <td>1.004917e+08</td>\n",
       "    </tr>\n",
       "    <tr>\n",
       "      <th>1999</th>\n",
       "      <td>Flawless</td>\n",
       "      <td>4.488528e+06</td>\n",
       "    </tr>\n",
       "    <tr>\n",
       "      <th>2000</th>\n",
       "      <td>The Way of the Gun</td>\n",
       "      <td>1.912540e+07</td>\n",
       "    </tr>\n",
       "    <tr>\n",
       "      <th>2001</th>\n",
       "      <td>Band of Brothers</td>\n",
       "      <td>1.250000e+08</td>\n",
       "    </tr>\n",
       "    <tr>\n",
       "      <th>2002</th>\n",
       "      <td>The Count of Monte Cristo</td>\n",
       "      <td>7.539505e+07</td>\n",
       "    </tr>\n",
       "    <tr>\n",
       "      <th>2003</th>\n",
       "      <td>The Recruit</td>\n",
       "      <td>1.011919e+08</td>\n",
       "    </tr>\n",
       "    <tr>\n",
       "      <th>2004</th>\n",
       "      <td>Scooby-Doo 2: Monsters Unleashed</td>\n",
       "      <td>1.814668e+08</td>\n",
       "    </tr>\n",
       "    <tr>\n",
       "      <th>2005</th>\n",
       "      <td>The Ring Two</td>\n",
       "      <td>1.614515e+08</td>\n",
       "    </tr>\n",
       "    <tr>\n",
       "      <th>2006</th>\n",
       "      <td>Garfield 2</td>\n",
       "      <td>1.417023e+08</td>\n",
       "    </tr>\n",
       "    <tr>\n",
       "      <th>2007</th>\n",
       "      <td>Wild Hogs</td>\n",
       "      <td>2.536254e+08</td>\n",
       "    </tr>\n",
       "    <tr>\n",
       "      <th>2008</th>\n",
       "      <td>Nights in Rodanthe</td>\n",
       "      <td>8.437506e+07</td>\n",
       "    </tr>\n",
       "    <tr>\n",
       "      <th>2009</th>\n",
       "      <td>Ghosts of Girlfriends Past</td>\n",
       "      <td>1.022233e+08</td>\n",
       "    </tr>\n",
       "    <tr>\n",
       "      <th>2010</th>\n",
       "      <td>For Colored Girls</td>\n",
       "      <td>3.700000e+07</td>\n",
       "    </tr>\n",
       "    <tr>\n",
       "      <th>2011</th>\n",
       "      <td>The Inbetweeners Movie</td>\n",
       "      <td>8.802578e+07</td>\n",
       "    </tr>\n",
       "    <tr>\n",
       "      <th>2012</th>\n",
       "      <td>The Campaign</td>\n",
       "      <td>1.049077e+08</td>\n",
       "    </tr>\n",
       "    <tr>\n",
       "      <th>2013</th>\n",
       "      <td>About Time</td>\n",
       "      <td>8.710045e+07</td>\n",
       "    </tr>\n",
       "    <tr>\n",
       "      <th>2014</th>\n",
       "      <td>Magic in the Moonlight</td>\n",
       "      <td>3.233932e+07</td>\n",
       "    </tr>\n",
       "    <tr>\n",
       "      <th>2015</th>\n",
       "      <td>Alvin and the Chipmunks: The Road Chip</td>\n",
       "      <td>2.337556e+08</td>\n",
       "    </tr>\n",
       "  </tbody>\n",
       "</table>\n",
       "</div>"
      ],
      "text/plain": [
       "                                      original_title  gross_profit_proportion\n",
       "release_year                                                                 \n",
       "1960                                     The Bellboy             9.999999e+06\n",
       "1961                  One Hundred and One Dalmatians             5.297000e+01\n",
       "1962                                   The Music Man             7.999999e+06\n",
       "1963                                The Pink Panther             1.087811e+07\n",
       "1964                              A Shot in the Dark             1.236823e+07\n",
       "1965                              The Sound of Music             1.890418e+01\n",
       "1966                 Who's Afraid of Virginia Woolf?             3.498225e+00\n",
       "1967                                   The War Wagon             5.999999e+06\n",
       "1968                                Romeo and Juliet             3.890122e+07\n",
       "1969                                       True Grit             1.425000e+07\n",
       "1970                                  Kelly's Heroes             5.199999e+06\n",
       "1971                                Carnal Knowledge             2.862390e+07\n",
       "1972                                     The Cowboys             7.499999e+06\n",
       "1973                                 The Way We Were             4.500000e+07\n",
       "1974                                The Longest Yard             4.300807e+07\n",
       "1975                                      Rollerball             3.000000e+07\n",
       "1976                                   Silver Streak             5.107906e+07\n",
       "1977                           Smokey and the Bandit             1.267374e+08\n",
       "1978                                          Hooper             7.800000e+07\n",
       "1979                           The Amityville Horror             8.643200e+07\n",
       "1980                                      Stir Crazy             1.013000e+08\n",
       "1981                                Sharky's Machine             3.561010e+07\n",
       "1982                      An Officer and a Gentleman             1.297956e+08\n",
       "1983                                         Mr. Mom             6.478383e+07\n",
       "1984                                       Tightrope             4.814358e+07\n",
       "1985                                          Cocoon             8.531312e+07\n",
       "1986                                  Back to School             9.125800e+07\n",
       "1987                                      Moonstruck             8.064053e+07\n",
       "1988                             Crocodile Dundee II             2.396062e+08\n",
       "1989                                      Parenthood             1.262978e+08\n",
       "1990                               Presumed Innocent             2.213032e+08\n",
       "1991                             Father of the Bride             8.932578e+07\n",
       "1992                                       Beethoven             1.472140e+08\n",
       "1993                                       Sommersby             1.400820e+08\n",
       "1994                                            Nell             1.066838e+08\n",
       "1995                                        Outbreak             1.898596e+08\n",
       "1996                                    The Birdcage             1.852606e+08\n",
       "1997                                        The Edge             4.331229e+07\n",
       "1998                               The Rugrats Movie             1.004917e+08\n",
       "1999                                        Flawless             4.488528e+06\n",
       "2000                              The Way of the Gun             1.912540e+07\n",
       "2001                                Band of Brothers             1.250000e+08\n",
       "2002                       The Count of Monte Cristo             7.539505e+07\n",
       "2003                                     The Recruit             1.011919e+08\n",
       "2004                Scooby-Doo 2: Monsters Unleashed             1.814668e+08\n",
       "2005                                    The Ring Two             1.614515e+08\n",
       "2006                                      Garfield 2             1.417023e+08\n",
       "2007                                       Wild Hogs             2.536254e+08\n",
       "2008                              Nights in Rodanthe             8.437506e+07\n",
       "2009                      Ghosts of Girlfriends Past             1.022233e+08\n",
       "2010                               For Colored Girls             3.700000e+07\n",
       "2011                          The Inbetweeners Movie             8.802578e+07\n",
       "2012                                    The Campaign             1.049077e+08\n",
       "2013                                      About Time             8.710045e+07\n",
       "2014                          Magic in the Moonlight             3.233932e+07\n",
       "2015          Alvin and the Chipmunks: The Road Chip             2.337556e+08"
      ]
     },
     "execution_count": 78,
     "metadata": {},
     "output_type": "execute_result"
    }
   ],
   "source": [
    "df_profit_title"
   ]
  },
  {
   "cell_type": "code",
   "execution_count": 79,
   "metadata": {},
   "outputs": [
    {
     "data": {
      "text/plain": [
       "<matplotlib.axes._subplots.AxesSubplot at 0x184bbb72a58>"
      ]
     },
     "execution_count": 79,
     "metadata": {},
     "output_type": "execute_result"
    },
    {
     "data": {
      "image/png": "[encoded data removed]",
      "text/plain": [
       "<matplotlib.figure.Figure at 0x184bbb6bda0>"
      ]
     },
     "metadata": {},
     "output_type": "display_data"
    }
   ],
   "source": [
    "df_profit_title.plot()"
   ]
  },
  {
   "cell_type": "markdown",
   "metadata": {},
   "source": [
    "##### From above discussion we can figure that 'Wild Hog'  made highest gross profit % in the year 2007 , which is clear from the DataFrame plot and visualisation."
   ]
  },
  {
   "cell_type": "markdown",
   "metadata": {},
   "source": [
    "<br><br><br>"
   ]
  },
  {
   "cell_type": "markdown",
   "metadata": {},
   "source": [
    "### Question 2: Which genres are most popular from year to year?"
   ]
  },
  {
   "cell_type": "markdown",
   "metadata": {},
   "source": [
    "> Since we need to find the genres which are most popular in each year we will eventually again group the elements by year then find the genres with maximum popularity."
   ]
  },
  {
   "cell_type": "markdown",
   "metadata": {},
   "source": [
    "However since we have already grouoed the elements by year we will use the same."
   ]
  },
  {
   "cell_type": "markdown",
   "metadata": {},
   "source": [
    "We will use get_genre function to get genre names by index positions later on"
   ]
  },
  {
   "cell_type": "code",
   "execution_count": 80,
   "metadata": {},
   "outputs": [],
   "source": [
    "# for an index i we need correspoding genre names so we need to column at index 13 viz for genre names\n",
    "def get_genre(x):\n",
    "    i=x.idxmax()\n",
    "    return  tmdb_movies_df.iloc[i, 13]    "
   ]
  },
  {
   "cell_type": "markdown",
   "metadata": {},
   "source": [
    "In the movies grouped by year we will use apply function to get movie popularity by index positions for each element present in the series , output is two series with genre names and other with maximum popularity by year"
   ]
  },
  {
   "cell_type": "code",
   "execution_count": 81,
   "metadata": {},
   "outputs": [],
   "source": [
    "popularity_sr_by_year=tmdb_movies_grouped_by_year['popularity'].max()\n",
    "genre_sr_by_year=tmdb_movies_grouped_by_year['popularity'].apply(get_genre)"
   ]
  },
  {
   "cell_type": "markdown",
   "metadata": {},
   "source": [
    "Then we combine the two series to make one Dataframe"
   ]
  },
  {
   "cell_type": "code",
   "execution_count": 82,
   "metadata": {},
   "outputs": [],
   "source": [
    "df_pop_genre=pd.concat([popularity_sr_by_year, genre_sr_by_year], axis=1)\n",
    "df_pop_genre.columns = ['popularity', 'genres']"
   ]
  },
  {
   "cell_type": "markdown",
   "metadata": {},
   "source": [
    "Create a plot of the Dataframe"
   ]
  },
  {
   "cell_type": "code",
   "execution_count": 83,
   "metadata": {},
   "outputs": [
    {
     "data": {
      "text/html": [
       "<div>\n",
       "<style>\n",
       "    .dataframe thead tr:only-child th {\n",
       "        text-align: right;\n",
       "    }\n",
       "\n",
       "    .dataframe thead th {\n",
       "        text-align: left;\n",
       "    }\n",
       "\n",
       "    .dataframe tbody tr th {\n",
       "        vertical-align: top;\n",
       "    }\n",
       "</style>\n",
       "<table border=\"1\" class=\"dataframe\">\n",
       "  <thead>\n",
       "    <tr style=\"text-align: right;\">\n",
       "      <th></th>\n",
       "      <th>popularity</th>\n",
       "      <th>genres</th>\n",
       "    </tr>\n",
       "    <tr>\n",
       "      <th>release_year</th>\n",
       "      <th></th>\n",
       "      <th></th>\n",
       "    </tr>\n",
       "  </thead>\n",
       "  <tbody>\n",
       "    <tr>\n",
       "      <th>1960</th>\n",
       "      <td>2.610362</td>\n",
       "      <td>Drama|Horror|Thriller</td>\n",
       "    </tr>\n",
       "    <tr>\n",
       "      <th>1961</th>\n",
       "      <td>2.631987</td>\n",
       "      <td>Adventure|Animation|Comedy|Family</td>\n",
       "    </tr>\n",
       "    <tr>\n",
       "      <th>1962</th>\n",
       "      <td>3.170651</td>\n",
       "      <td>Adventure|Action|Thriller</td>\n",
       "    </tr>\n",
       "    <tr>\n",
       "      <th>1963</th>\n",
       "      <td>2.508235</td>\n",
       "      <td>Action|Thriller|Adventure</td>\n",
       "    </tr>\n",
       "    <tr>\n",
       "      <th>1964</th>\n",
       "      <td>3.153791</td>\n",
       "      <td>Adventure|Action|Thriller</td>\n",
       "    </tr>\n",
       "    <tr>\n",
       "      <th>1965</th>\n",
       "      <td>1.910465</td>\n",
       "      <td>Adventure|Action|Thriller</td>\n",
       "    </tr>\n",
       "    <tr>\n",
       "      <th>1966</th>\n",
       "      <td>1.227582</td>\n",
       "      <td>Animation|Family|Comedy</td>\n",
       "    </tr>\n",
       "    <tr>\n",
       "      <th>1967</th>\n",
       "      <td>2.550704</td>\n",
       "      <td>Family|Animation|Adventure</td>\n",
       "    </tr>\n",
       "    <tr>\n",
       "      <th>1968</th>\n",
       "      <td>3.309196</td>\n",
       "      <td>Science Fiction|Mystery|Adventure</td>\n",
       "    </tr>\n",
       "    <tr>\n",
       "      <th>1969</th>\n",
       "      <td>1.778746</td>\n",
       "      <td>Adventure|Action|Thriller</td>\n",
       "    </tr>\n",
       "    <tr>\n",
       "      <th>1970</th>\n",
       "      <td>1.936962</td>\n",
       "      <td>Animation|Comedy|Family|Adventure</td>\n",
       "    </tr>\n",
       "    <tr>\n",
       "      <th>1971</th>\n",
       "      <td>3.072555</td>\n",
       "      <td>Science Fiction|Drama</td>\n",
       "    </tr>\n",
       "    <tr>\n",
       "      <th>1972</th>\n",
       "      <td>5.738034</td>\n",
       "      <td>Drama|Crime</td>\n",
       "    </tr>\n",
       "    <tr>\n",
       "      <th>1973</th>\n",
       "      <td>2.272486</td>\n",
       "      <td>Animation|Family</td>\n",
       "    </tr>\n",
       "    <tr>\n",
       "      <th>1974</th>\n",
       "      <td>3.264571</td>\n",
       "      <td>Drama|Crime</td>\n",
       "    </tr>\n",
       "    <tr>\n",
       "      <th>1975</th>\n",
       "      <td>3.258151</td>\n",
       "      <td>Drama</td>\n",
       "    </tr>\n",
       "    <tr>\n",
       "      <th>1976</th>\n",
       "      <td>2.582657</td>\n",
       "      <td>Crime|Drama</td>\n",
       "    </tr>\n",
       "    <tr>\n",
       "      <th>1977</th>\n",
       "      <td>12.037933</td>\n",
       "      <td>Adventure|Action|Science Fiction</td>\n",
       "    </tr>\n",
       "    <tr>\n",
       "      <th>1978</th>\n",
       "      <td>1.697618</td>\n",
       "      <td>Music</td>\n",
       "    </tr>\n",
       "    <tr>\n",
       "      <th>1979</th>\n",
       "      <td>4.935897</td>\n",
       "      <td>Horror|Action|Thriller|Science Fiction</td>\n",
       "    </tr>\n",
       "    <tr>\n",
       "      <th>1980</th>\n",
       "      <td>5.488441</td>\n",
       "      <td>Adventure|Action|Science Fiction</td>\n",
       "    </tr>\n",
       "    <tr>\n",
       "      <th>1981</th>\n",
       "      <td>4.578300</td>\n",
       "      <td>Adventure|Action</td>\n",
       "    </tr>\n",
       "    <tr>\n",
       "      <th>1982</th>\n",
       "      <td>4.215642</td>\n",
       "      <td>Science Fiction|Drama|Thriller</td>\n",
       "    </tr>\n",
       "    <tr>\n",
       "      <th>1983</th>\n",
       "      <td>4.828854</td>\n",
       "      <td>Adventure|Action|Science Fiction</td>\n",
       "    </tr>\n",
       "    <tr>\n",
       "      <th>1984</th>\n",
       "      <td>4.831966</td>\n",
       "      <td>Action|Thriller|Science Fiction</td>\n",
       "    </tr>\n",
       "    <tr>\n",
       "      <th>1985</th>\n",
       "      <td>6.095293</td>\n",
       "      <td>Adventure|Comedy|Science Fiction|Family</td>\n",
       "    </tr>\n",
       "    <tr>\n",
       "      <th>1986</th>\n",
       "      <td>2.485419</td>\n",
       "      <td>Horror|Action|Thriller|Science Fiction</td>\n",
       "    </tr>\n",
       "    <tr>\n",
       "      <th>1987</th>\n",
       "      <td>3.474728</td>\n",
       "      <td>Science Fiction|Action|Adventure|Thriller</td>\n",
       "    </tr>\n",
       "    <tr>\n",
       "      <th>1988</th>\n",
       "      <td>3.777441</td>\n",
       "      <td>Action|Thriller</td>\n",
       "    </tr>\n",
       "    <tr>\n",
       "      <th>1989</th>\n",
       "      <td>4.143585</td>\n",
       "      <td>Animation|Family</td>\n",
       "    </tr>\n",
       "    <tr>\n",
       "      <th>1990</th>\n",
       "      <td>2.679627</td>\n",
       "      <td>Action|Adventure|Science Fiction</td>\n",
       "    </tr>\n",
       "    <tr>\n",
       "      <th>1991</th>\n",
       "      <td>3.852269</td>\n",
       "      <td>Romance|Family|Animation|Fantasy|Music</td>\n",
       "    </tr>\n",
       "    <tr>\n",
       "      <th>1992</th>\n",
       "      <td>4.586426</td>\n",
       "      <td>Crime|Thriller</td>\n",
       "    </tr>\n",
       "    <tr>\n",
       "      <th>1993</th>\n",
       "      <td>2.571339</td>\n",
       "      <td>Romance|Fantasy|Drama|Comedy</td>\n",
       "    </tr>\n",
       "    <tr>\n",
       "      <th>1994</th>\n",
       "      <td>8.093754</td>\n",
       "      <td>Thriller|Crime</td>\n",
       "    </tr>\n",
       "    <tr>\n",
       "      <th>1995</th>\n",
       "      <td>4.765359</td>\n",
       "      <td>Crime|Mystery|Thriller</td>\n",
       "    </tr>\n",
       "    <tr>\n",
       "      <th>1996</th>\n",
       "      <td>4.480733</td>\n",
       "      <td>Action|Adventure|Science Fiction</td>\n",
       "    </tr>\n",
       "    <tr>\n",
       "      <th>1997</th>\n",
       "      <td>6.668990</td>\n",
       "      <td>Comedy</td>\n",
       "    </tr>\n",
       "    <tr>\n",
       "      <th>1998</th>\n",
       "      <td>4.180540</td>\n",
       "      <td>Comedy|Drama</td>\n",
       "    </tr>\n",
       "    <tr>\n",
       "      <th>1999</th>\n",
       "      <td>8.947905</td>\n",
       "      <td>Drama</td>\n",
       "    </tr>\n",
       "    <tr>\n",
       "      <th>2000</th>\n",
       "      <td>4.271452</td>\n",
       "      <td>Action|Drama|Adventure</td>\n",
       "    </tr>\n",
       "    <tr>\n",
       "      <th>2001</th>\n",
       "      <td>8.575419</td>\n",
       "      <td>Adventure|Fantasy|Action</td>\n",
       "    </tr>\n",
       "    <tr>\n",
       "      <th>2002</th>\n",
       "      <td>8.095275</td>\n",
       "      <td>Adventure|Fantasy|Action</td>\n",
       "    </tr>\n",
       "    <tr>\n",
       "      <th>2003</th>\n",
       "      <td>7.122455</td>\n",
       "      <td>Adventure|Fantasy|Action</td>\n",
       "    </tr>\n",
       "    <tr>\n",
       "      <th>2004</th>\n",
       "      <td>5.827781</td>\n",
       "      <td>Adventure|Fantasy|Family</td>\n",
       "    </tr>\n",
       "    <tr>\n",
       "      <th>2005</th>\n",
       "      <td>5.939927</td>\n",
       "      <td>Adventure|Fantasy|Family</td>\n",
       "    </tr>\n",
       "    <tr>\n",
       "      <th>2006</th>\n",
       "      <td>5.838503</td>\n",
       "      <td>Fantasy|Action|Science Fiction|Thriller</td>\n",
       "    </tr>\n",
       "    <tr>\n",
       "      <th>2007</th>\n",
       "      <td>4.965391</td>\n",
       "      <td>Adventure|Fantasy|Action</td>\n",
       "    </tr>\n",
       "    <tr>\n",
       "      <th>2008</th>\n",
       "      <td>8.466668</td>\n",
       "      <td>Drama|Action|Crime|Thriller</td>\n",
       "    </tr>\n",
       "    <tr>\n",
       "      <th>2009</th>\n",
       "      <td>9.432768</td>\n",
       "      <td>Action|Adventure|Fantasy|Science Fiction</td>\n",
       "    </tr>\n",
       "    <tr>\n",
       "      <th>2010</th>\n",
       "      <td>9.363643</td>\n",
       "      <td>Action|Thriller|Science Fiction|Mystery|Adventure</td>\n",
       "    </tr>\n",
       "    <tr>\n",
       "      <th>2011</th>\n",
       "      <td>8.411577</td>\n",
       "      <td>Action|Animation|Horror</td>\n",
       "    </tr>\n",
       "    <tr>\n",
       "      <th>2012</th>\n",
       "      <td>7.637767</td>\n",
       "      <td>Science Fiction|Action|Adventure</td>\n",
       "    </tr>\n",
       "    <tr>\n",
       "      <th>2013</th>\n",
       "      <td>6.112766</td>\n",
       "      <td>Animation|Adventure|Family</td>\n",
       "    </tr>\n",
       "    <tr>\n",
       "      <th>2014</th>\n",
       "      <td>24.949134</td>\n",
       "      <td>Adventure|Drama|Science Fiction</td>\n",
       "    </tr>\n",
       "    <tr>\n",
       "      <th>2015</th>\n",
       "      <td>32.985763</td>\n",
       "      <td>Action|Adventure|Science Fiction|Thriller</td>\n",
       "    </tr>\n",
       "  </tbody>\n",
       "</table>\n",
       "</div>"
      ],
      "text/plain": [
       "              popularity                                             genres\n",
       "release_year                                                               \n",
       "1960            2.610362                              Drama|Horror|Thriller\n",
       "1961            2.631987                  Adventure|Animation|Comedy|Family\n",
       "1962            3.170651                          Adventure|Action|Thriller\n",
       "1963            2.508235                          Action|Thriller|Adventure\n",
       "1964            3.153791                          Adventure|Action|Thriller\n",
       "1965            1.910465                          Adventure|Action|Thriller\n",
       "1966            1.227582                            Animation|Family|Comedy\n",
       "1967            2.550704                         Family|Animation|Adventure\n",
       "1968            3.309196                  Science Fiction|Mystery|Adventure\n",
       "1969            1.778746                          Adventure|Action|Thriller\n",
       "1970            1.936962                  Animation|Comedy|Family|Adventure\n",
       "1971            3.072555                              Science Fiction|Drama\n",
       "1972            5.738034                                        Drama|Crime\n",
       "1973            2.272486                                   Animation|Family\n",
       "1974            3.264571                                        Drama|Crime\n",
       "1975            3.258151                                              Drama\n",
       "1976            2.582657                                        Crime|Drama\n",
       "1977           12.037933                   Adventure|Action|Science Fiction\n",
       "1978            1.697618                                              Music\n",
       "1979            4.935897             Horror|Action|Thriller|Science Fiction\n",
       "1980            5.488441                   Adventure|Action|Science Fiction\n",
       "1981            4.578300                                   Adventure|Action\n",
       "1982            4.215642                     Science Fiction|Drama|Thriller\n",
       "1983            4.828854                   Adventure|Action|Science Fiction\n",
       "1984            4.831966                    Action|Thriller|Science Fiction\n",
       "1985            6.095293            Adventure|Comedy|Science Fiction|Family\n",
       "1986            2.485419             Horror|Action|Thriller|Science Fiction\n",
       "1987            3.474728          Science Fiction|Action|Adventure|Thriller\n",
       "1988            3.777441                                    Action|Thriller\n",
       "1989            4.143585                                   Animation|Family\n",
       "1990            2.679627                   Action|Adventure|Science Fiction\n",
       "1991            3.852269             Romance|Family|Animation|Fantasy|Music\n",
       "1992            4.586426                                     Crime|Thriller\n",
       "1993            2.571339                       Romance|Fantasy|Drama|Comedy\n",
       "1994            8.093754                                     Thriller|Crime\n",
       "1995            4.765359                             Crime|Mystery|Thriller\n",
       "1996            4.480733                   Action|Adventure|Science Fiction\n",
       "1997            6.668990                                             Comedy\n",
       "1998            4.180540                                       Comedy|Drama\n",
       "1999            8.947905                                              Drama\n",
       "2000            4.271452                             Action|Drama|Adventure\n",
       "2001            8.575419                           Adventure|Fantasy|Action\n",
       "2002            8.095275                           Adventure|Fantasy|Action\n",
       "2003            7.122455                           Adventure|Fantasy|Action\n",
       "2004            5.827781                           Adventure|Fantasy|Family\n",
       "2005            5.939927                           Adventure|Fantasy|Family\n",
       "2006            5.838503            Fantasy|Action|Science Fiction|Thriller\n",
       "2007            4.965391                           Adventure|Fantasy|Action\n",
       "2008            8.466668                        Drama|Action|Crime|Thriller\n",
       "2009            9.432768           Action|Adventure|Fantasy|Science Fiction\n",
       "2010            9.363643  Action|Thriller|Science Fiction|Mystery|Adventure\n",
       "2011            8.411577                            Action|Animation|Horror\n",
       "2012            7.637767                   Science Fiction|Action|Adventure\n",
       "2013            6.112766                         Animation|Adventure|Family\n",
       "2014           24.949134                    Adventure|Drama|Science Fiction\n",
       "2015           32.985763          Action|Adventure|Science Fiction|Thriller"
      ]
     },
     "execution_count": 83,
     "metadata": {},
     "output_type": "execute_result"
    }
   ],
   "source": [
    "df_pop_genre"
   ]
  },
  {
   "cell_type": "markdown",
   "metadata": {},
   "source": [
    "Create a Visualization of the Dataframe"
   ]
  },
  {
   "cell_type": "code",
   "execution_count": 84,
   "metadata": {},
   "outputs": [
    {
     "data": {
      "text/plain": [
       "<matplotlib.axes._subplots.AxesSubplot at 0x184bb12d7f0>"
      ]
     },
     "execution_count": 84,
     "metadata": {},
     "output_type": "execute_result"
    },
    {
     "data": {
      "image/png": "[encoded data removed]",
      "text/plain": [
       "<matplotlib.figure.Figure at 0x184bb124cc0>"
      ]
     },
     "metadata": {},
     "output_type": "display_data"
    }
   ],
   "source": [
    "df_pop_genre.plot()"
   ]
  },
  {
   "cell_type": "markdown",
   "metadata": {},
   "source": [
    "##### From above discussion we can figure that most popular genres are - Action , Adventure ,Science Fiction ,Thriller  in year 2015 , which is clear from the DataFrame plot and visualisation"
   ]
  },
  {
   "cell_type": "markdown",
   "metadata": {},
   "source": [
    "<br><br><br>"
   ]
  },
  {
   "cell_type": "markdown",
   "metadata": {},
   "source": [
    "### Question 3: Compare the mean runtimes per genre?"
   ]
  },
  {
   "cell_type": "markdown",
   "metadata": {},
   "source": [
    "In this question since we need to compare the mean runtimes of each genre type , we will proceed as follows -\n",
    "> 1) Create a set of all the genres avaiable to us.<br>\n",
    "> 2) Then for each genre available in the set we will get mean runtimes."
   ]
  },
  {
   "cell_type": "code",
   "execution_count": 85,
   "metadata": {},
   "outputs": [],
   "source": [
    "genre_set=set()\n",
    "def genre_adder(x):\n",
    "    genre_tuple=tuple(str(x).split('|'))\n",
    "    for value in genre_tuple:\n",
    "        if value !='nan':\n",
    "            genre_set.add(value)"
   ]
  },
  {
   "cell_type": "markdown",
   "metadata": {},
   "source": [
    "The following code gives us the mean runtime for a Specific genre"
   ]
  },
  {
   "cell_type": "code",
   "execution_count": 86,
   "metadata": {},
   "outputs": [],
   "source": [
    "tmdb_movies_df['genres'].apply(genre_adder)\n",
    "mygenre=''\n",
    "def check_n_split(x):\n",
    "    return mygenre in str(x).split('|')\n",
    "def runtime_means_by_genre(genre):\n",
    "    global mygenre\n",
    "    mygenre= genre\n",
    "    kl=tmdb_movies_df['genres'].apply(check_n_split)\n",
    "    runtimes_selected_genre=tmdb_movies_df[kl.values]['runtime']\n",
    "    return (runtimes_selected_genre.mean() , len(runtimes_selected_genre))"
   ]
  },
  {
   "cell_type": "markdown",
   "metadata": {},
   "source": [
    "Using the above code we create a list of mean runtimes all the genres available in the genre set."
   ]
  },
  {
   "cell_type": "code",
   "execution_count": 87,
   "metadata": {},
   "outputs": [],
   "source": [
    "list_of_means=[]\n",
    "for genre in genre_set:\n",
    "    list_of_means.append(runtime_means_by_genre(genre)[0])"
   ]
  },
  {
   "cell_type": "code",
   "execution_count": 88,
   "metadata": {},
   "outputs": [],
   "source": [
    "genre_means_sr=pd.Series(list_of_means,index=list(genre_set))"
   ]
  },
  {
   "cell_type": "markdown",
   "metadata": {},
   "source": [
    "Create a plot of the Series"
   ]
  },
  {
   "cell_type": "code",
   "execution_count": 89,
   "metadata": {},
   "outputs": [
    {
     "data": {
      "text/plain": [
       "Romance            106.891355\n",
       "Action             104.912369\n",
       "Documentary        102.651923\n",
       "Adventure          106.173351\n",
       "Crime              106.906273\n",
       "Music              105.137255\n",
       "Western            117.575758\n",
       "Thriller           103.243810\n",
       "Horror              94.424557\n",
       "History            136.206587\n",
       "Animation           68.181688\n",
       "Fantasy            100.736900\n",
       "Drama              110.474270\n",
       "Mystery            105.928395\n",
       "TV Movie            91.982036\n",
       "War                127.625926\n",
       "Comedy              96.745057\n",
       "Family              89.603574\n",
       "Foreign            107.228723\n",
       "Science Fiction     99.413821\n",
       "dtype: float64"
      ]
     },
     "execution_count": 89,
     "metadata": {},
     "output_type": "execute_result"
    }
   ],
   "source": [
    "genre_means_sr"
   ]
  },
  {
   "cell_type": "markdown",
   "metadata": {},
   "source": [
    "Create a Visualization of the Dataframe"
   ]
  },
  {
   "cell_type": "code",
   "execution_count": 90,
   "metadata": {},
   "outputs": [
    {
     "data": {
      "text/plain": [
       "Text(0.5,1,'Mean Runtimes by Genres')"
      ]
     },
     "execution_count": 90,
     "metadata": {},
     "output_type": "execute_result"
    },
    {
     "data": {
      "image/png": "[encoded data removed]",
      "text/plain": [
       "<matplotlib.figure.Figure at 0x184bb188278>"
      ]
     },
     "metadata": {},
     "output_type": "display_data"
    }
   ],
   "source": [
    "objects = list(genre_means_dict.keys())\n",
    "performance = list(genre_means_dict.values())\n",
    "y_pos = np.arange(len(objects))\n",
    "plt.yticks(y_pos, objects)\n",
    "plt.barh(y_pos, performance, align='center', alpha=0.7)\n",
    "plt.xlabel('Mean Runtimes')\n",
    "plt.ylabel('Genres')\n",
    "plt.title('Mean Runtimes by Genres')"
   ]
  },
  {
   "cell_type": "markdown",
   "metadata": {},
   "source": [
    "**From above discussion we can figure that histort genre has the highest mean runtimes , which is clear from the DataFrame plot and visualisation**"
   ]
  },
  {
   "cell_type": "markdown",
   "metadata": {},
   "source": [
    "<br>"
   ]
  },
  {
   "cell_type": "markdown",
   "metadata": {},
   "source": [
    "### Question 4: What kinds of properties are associated with movies that have high revenues?"
   ]
  },
  {
   "cell_type": "markdown",
   "metadata": {},
   "source": [
    "To achieve this we will try solving as -<br> 1) sort the revenue series ,<br> 2) select the first 10% of the movies with high revenues ,<br>\n",
    "3) then try to find any pattern which common in between these  10% selected movies , like what are there genre , running time."
   ]
  },
  {
   "cell_type": "markdown",
   "metadata": {},
   "source": [
    "**Assumptions **- We will assume that only first 10% of the movies can be said to be high revenue ones."
   ]
  },
  {
   "cell_type": "markdown",
   "metadata": {},
   "source": [
    "Sort the revenue series , then select 10% of the first movies."
   ]
  },
  {
   "cell_type": "code",
   "execution_count": 91,
   "metadata": {},
   "outputs": [],
   "source": [
    "# Assuming first 10% movies can be said to be high revenue."
   ]
  },
  {
   "cell_type": "markdown",
   "metadata": {},
   "source": [
    "Also get the indexes of the these 10% movies."
   ]
  },
  {
   "cell_type": "code",
   "execution_count": 92,
   "metadata": {},
   "outputs": [],
   "source": [
    "hi_rev_movies_sr=tmdb_movies_df['revenue'].sort_values(ascending=False,inplace=False)[:1000]\n",
    "hi_rev_movies_sr_index=hi_rev_movies_sr.index.values"
   ]
  },
  {
   "cell_type": "markdown",
   "metadata": {},
   "source": [
    "The using the indexs of these 10% movies get there corresponding genre."
   ]
  },
  {
   "cell_type": "code",
   "execution_count": 93,
   "metadata": {},
   "outputs": [],
   "source": [
    "hi_rev_genre=tmdb_movies_df.loc[hi_rev_movies_sr_index,'genres']"
   ]
  },
  {
   "cell_type": "markdown",
   "metadata": {},
   "source": [
    "Now create a dictionary using the keys of the of the genre set. We will use this dictionary to get the count of movies by there genre."
   ]
  },
  {
   "cell_type": "code",
   "execution_count": 94,
   "metadata": {},
   "outputs": [],
   "source": [
    "hi_rev_genre_dict = dict.fromkeys(genre_set, 0)"
   ]
  },
  {
   "cell_type": "markdown",
   "metadata": {},
   "source": [
    "Using the below function we will count the genres and update in the correspoding dictionary."
   ]
  },
  {
   "cell_type": "markdown",
   "metadata": {},
   "source": [
    "Create a plot of the Series"
   ]
  },
  {
   "cell_type": "code",
   "execution_count": 95,
   "metadata": {},
   "outputs": [
    {
     "data": {
      "text/plain": [
       "Action             396\n",
       "Adventure          346\n",
       "Animation          118\n",
       "Comedy             357\n",
       "Crime              138\n",
       "Documentary          0\n",
       "Drama              328\n",
       "Family             202\n",
       "Fantasy            181\n",
       "Foreign              0\n",
       "History             27\n",
       "Horror              62\n",
       "Music               32\n",
       "Mystery             82\n",
       "Romance            152\n",
       "Science Fiction    184\n",
       "TV Movie             0\n",
       "Thriller           291\n",
       "War                 38\n",
       "Western             14\n",
       "Name: DateValue, dtype: int64"
      ]
     },
     "execution_count": 95,
     "metadata": {},
     "output_type": "execute_result"
    }
   ],
   "source": [
    "def spliter_n_counter(genre_row):\n",
    "    x=str(genre_row).split('|')\n",
    "    for v in x:\n",
    "        hi_rev_genre_dict[v]+=1\n",
    "hi_rev_genre.apply(spliter_n_counter)\n",
    "pd.Series(hi_rev_genre_dict, name='DateValue')"
   ]
  },
  {
   "cell_type": "markdown",
   "metadata": {},
   "source": [
    "Create a Visualization of the Dataframe"
   ]
  },
  {
   "cell_type": "code",
   "execution_count": 96,
   "metadata": {},
   "outputs": [
    {
     "data": {
      "text/plain": [
       "Text(0.5,1,'High revenue movies by Genres')"
      ]
     },
     "execution_count": 96,
     "metadata": {},
     "output_type": "execute_result"
    },
    {
     "data": {
      "image/png": "[encoded data removed]",
      "text/plain": [
       "<matplotlib.figure.Figure at 0x184bb1c0198>"
      ]
     },
     "metadata": {},
     "output_type": "display_data"
    }
   ],
   "source": [
    "#plt.bar(hi_rev_genre_dict.keys(), hi_rev_genre_dict.values(), width=0.5, color='b')\n",
    "objects = list(hi_rev_genre_dict.keys())\n",
    "performance = list(hi_rev_genre_dict.values())\n",
    "y_pos = np.arange(len(objects))\n",
    "plt.yticks(y_pos, objects)\n",
    "plt.barh(y_pos, performance, align='center', alpha=0.7)\n",
    "plt.xlabel('Count of movies')\n",
    "plt.ylabel('Genres')\n",
    "plt.title('High revenue movies by Genres')"
   ]
  },
  {
   "cell_type": "markdown",
   "metadata": {},
   "source": [
    "**Property 1)** From above discussion we can figure that Count of **Action** movies with higher revenues is priorly higher than others , 2nd highest being Comedy which is clear from the DataFrame plot and visualisation"
   ]
  },
  {
   "cell_type": "markdown",
   "metadata": {},
   "source": [
    "> Next we try Analizing running times of these high revenue movies. "
   ]
  },
  {
   "cell_type": "code",
   "execution_count": 97,
   "metadata": {},
   "outputs": [
    {
     "data": {
      "text/plain": [
       "442"
      ]
     },
     "execution_count": 97,
     "metadata": {},
     "output_type": "execute_result"
    }
   ],
   "source": [
    "hi_rev_run=tmdb_movies_df.loc[hi_rev_movies_sr_index,'runtime']\n",
    "ddp=hi_rev_run > hi_rev_run.mean()\n",
    "len(hi_rev_run[ddp])"
   ]
  },
  {
   "cell_type": "markdown",
   "metadata": {},
   "source": [
    "**Property 2)** From above discussion we can figure that less than 50% of these movies have running times less than overall mean."
   ]
  },
  {
   "cell_type": "markdown",
   "metadata": {},
   "source": [
    "<br>"
   ]
  },
  {
   "cell_type": "markdown",
   "metadata": {},
   "source": [
    "Atlast we try Analizing the correlation between budget and revenues of these high revenue movies."
   ]
  },
  {
   "cell_type": "code",
   "execution_count": 98,
   "metadata": {},
   "outputs": [],
   "source": [
    "def correlation(x, y):\n",
    "    '''\n",
    "    Fill in this function to compute the correlation between the two\n",
    "    input variables. Each input is either a NumPy array or a Pandas\n",
    "    Series.\n",
    "    \n",
    "    correlation = average of (x in standard units) times (y in standard units)\n",
    "    \n",
    "    Remember to pass the argument \"ddof=0\" to the Pandas std() function!\n",
    "    '''\n",
    "    standard_x=(x-x.mean())/x.std(ddof=0)\n",
    "    standard_y=(y-y.mean())/y.std(ddof=0)\n",
    "    return (standard_x*standard_y).mean()"
   ]
  },
  {
   "cell_type": "code",
   "execution_count": 99,
   "metadata": {},
   "outputs": [
    {
     "data": {
      "text/plain": [
       "0.7349006818217312"
      ]
     },
     "execution_count": 99,
     "metadata": {},
     "output_type": "execute_result"
    }
   ],
   "source": [
    "correlation(tmdb_movies_df['budget'], tmdb_movies_df['revenue'])"
   ]
  },
  {
   "cell_type": "markdown",
   "metadata": {},
   "source": [
    "**Property 3)** We can figure that there is quite a correlation between all the movies present in the dataset.\n",
    "<br>But correlation between the high revenue movies 10% ones is less than that of all the movies as depicted below, which is obvious since the sample size decreases rigoursly."
   ]
  },
  {
   "cell_type": "code",
   "execution_count": 100,
   "metadata": {},
   "outputs": [
    {
     "data": {
      "text/plain": [
       "True"
      ]
     },
     "execution_count": 100,
     "metadata": {},
     "output_type": "execute_result"
    }
   ],
   "source": [
    "hi_rev_budget=tmdb_movies_df.loc[hi_rev_movies_sr_index,'budget']\n",
    "hi_rev_revenue=tmdb_movies_df.loc[hi_rev_movies_sr_index,'revenue']\n",
    "correlation(hi_rev_budget, hi_rev_revenue) < correlation(tmdb_movies_df['budget'], tmdb_movies_df['revenue'])"
   ]
  },
  {
   "cell_type": "markdown",
   "metadata": {},
   "source": [
    "<br>"
   ]
  },
  {
   "cell_type": "markdown",
   "metadata": {},
   "source": [
    "<a id='conclusions'></a>\n",
    "## Conclusions"
   ]
  },
  {
   "cell_type": "markdown",
   "metadata": {},
   "source": [
    "**Limitation of the dataset**<br>\n",
    "\n",
    "* Dataset contains errors in information provided for **cast and director** column, some errorenous characters are present in these columns, leading to inaccurate information.\n",
    "\n",
    "* Since we have collected **popularity** information in the dataset it means that we are using data from surveys.Then we must keep in mind that people don’t always provide accurate information as they may also be biased.\n",
    "\n",
    "* Since data may be biased we may not get accurate analysis.\n",
    "\n",
    "* Sample size of **10,000** may not be enough to represent a whole population and answer questions like , Which genre is most liked by the population as a whole.\n",
    "\n",
    "* There are certain outliners (like budget and revenues) also in the dataset provided which may lead to inaccurate results when question are asked in relation to the whole population.\n",
    "\n",
    "**Future Work ** -<br>\n",
    "* If data related to human behavioural changes is also provided , we may also wish to  acertain some relationship on how a particular genre effects the human behaviour.\n"
   ]
  },
  {
   "cell_type": "markdown",
   "metadata": {},
   "source": [
    "**Conclusions analysed from the Dataset **\n",
    "\n",
    "> (1) From above discussion we can figure that 'Wild Hog' made highest gross profit % in the year 2007 , which is clear from the DataFrame plot and visualisation.\n",
    "\n",
    "> (2) From above discussion we can figure that most popular genres are - Action , Adventure ,Science Fiction ,Thriller in year 2015 , which is clear from the DataFrame plot and visualisation\n",
    "\n",
    "> (3) From above discussion we can figure that histort genre has the highest mean runtimes , which is clear from the DataFrame plot and visualisation\n",
    "\n",
    ">  (4). - (i) From above discussion we can figure that Count of Action movies with higher revenues is priorly higher than others , 2nd highest being Comedy which is clear from the DataFrame plot and visualisation\n",
    "\n",
    "> (4). - (ii) From above discussion we can figure that less than 50% of these movies have running times less than overall mean.\n",
    "\n",
    "> (4). - (iii) We can figure that there is quite a correlation between all the movies present in the dataset. \n",
    "But correlation between the high revenue movies 10% ones is less than that of all the movies as depicted below, which is obvious since the sample size decreases rigoursly.\n",
    "\n",
    ">> **Thank You !!!**\n"
   ]
  },
  {
   "cell_type": "code",
   "execution_count": null,
   "metadata": {},
   "outputs": [],
   "source": []
  }
 ],
 "metadata": {
  "kernelspec": {
   "display_name": "Python [default]",
   "language": "python",
   "name": "python3"
  },
  "language_info": {
   "codemirror_mode": {
    "name": "ipython",
    "version": 3
   },
   "file_extension": ".py",
   "mimetype": "text/x-python",
   "name": "python",
   "nbconvert_exporter": "python",
   "pygments_lexer": "ipython3",
   "version": "3.6.3"
  }
 },
 "nbformat": 4,
 "nbformat_minor": 2
}
